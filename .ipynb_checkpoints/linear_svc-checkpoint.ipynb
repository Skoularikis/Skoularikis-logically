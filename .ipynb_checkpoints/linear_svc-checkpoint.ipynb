{
 "cells": [
  {
   "cell_type": "code",
   "execution_count": 1,
   "id": "394767ad-9fd6-483a-b45d-733e122f1cbf",
   "metadata": {},
   "outputs": [],
   "source": [
    "import pandas as pd\n",
    "import matplotlib.pyplot as plt\n",
    "\n",
    "# Download if you have not\n",
    "# import nltk\n",
    "# nltk.download('stopwords') If not downloaded\n",
    "# nltk.download('wordnet')\n",
    "\n",
    "from nltk.corpus import stopwords\n",
    "from nltk.stem import WordNetLemmatizer\n",
    "from nltk.tokenize import wordpunct_tokenize\n",
    "import string\n",
    "\n",
    "from sklearn.ensemble import RandomForestClassifier\n",
    "from sklearn.svm import LinearSVC\n",
    "\n",
    "from sklearn.metrics import confusion_matrix, accuracy_score, classification_report\n",
    "\n",
    "from sklearn.model_selection import StratifiedKFold, train_test_split\n",
    "from sklearn.feature_extraction.text import TfidfVectorizer"
   ]
  },
  {
   "cell_type": "markdown",
   "id": "1b36c007-c211-4c3c-8c71-4a30d727d6c6",
   "metadata": {},
   "source": [
    "# BEGIN"
   ]
  },
  {
   "cell_type": "code",
   "execution_count": 2,
   "id": "a45190da-1290-4086-b855-68a74f74d5a8",
   "metadata": {},
   "outputs": [],
   "source": [
    "complaints = pd.read_csv('../complaints.csv')"
   ]
  },
  {
   "cell_type": "code",
   "execution_count": 3,
   "id": "09afe9a0-fb80-43e3-bb13-08a012208f39",
   "metadata": {},
   "outputs": [
    {
     "data": {
      "text/html": [
       "<div>\n",
       "<style scoped>\n",
       "    .dataframe tbody tr th:only-of-type {\n",
       "        vertical-align: middle;\n",
       "    }\n",
       "\n",
       "    .dataframe tbody tr th {\n",
       "        vertical-align: top;\n",
       "    }\n",
       "\n",
       "    .dataframe thead th {\n",
       "        text-align: right;\n",
       "    }\n",
       "</style>\n",
       "<table border=\"1\" class=\"dataframe\">\n",
       "  <thead>\n",
       "    <tr style=\"text-align: right;\">\n",
       "      <th></th>\n",
       "      <th>Date received</th>\n",
       "      <th>Product</th>\n",
       "      <th>Sub-product</th>\n",
       "      <th>Issue</th>\n",
       "      <th>Sub-issue</th>\n",
       "      <th>Consumer complaint narrative</th>\n",
       "      <th>Company public response</th>\n",
       "      <th>Company</th>\n",
       "      <th>State</th>\n",
       "      <th>ZIP code</th>\n",
       "      <th>Tags</th>\n",
       "      <th>Consumer consent provided?</th>\n",
       "      <th>Submitted via</th>\n",
       "      <th>Date sent to company</th>\n",
       "      <th>Company response to consumer</th>\n",
       "      <th>Timely response?</th>\n",
       "      <th>Consumer disputed?</th>\n",
       "      <th>Complaint ID</th>\n",
       "    </tr>\n",
       "  </thead>\n",
       "  <tbody>\n",
       "    <tr>\n",
       "      <th>0</th>\n",
       "      <td>2019-06-13</td>\n",
       "      <td>Credit reporting, credit repair services, or o...</td>\n",
       "      <td>Credit reporting</td>\n",
       "      <td>Incorrect information on your report</td>\n",
       "      <td>Information belongs to someone else</td>\n",
       "      <td>NaN</td>\n",
       "      <td>NaN</td>\n",
       "      <td>CAPITAL ONE FINANCIAL CORPORATION</td>\n",
       "      <td>PA</td>\n",
       "      <td>186XX</td>\n",
       "      <td>NaN</td>\n",
       "      <td>Consent not provided</td>\n",
       "      <td>Web</td>\n",
       "      <td>2019-06-13</td>\n",
       "      <td>Closed with explanation</td>\n",
       "      <td>Yes</td>\n",
       "      <td>NaN</td>\n",
       "      <td>3274605</td>\n",
       "    </tr>\n",
       "    <tr>\n",
       "      <th>1</th>\n",
       "      <td>2019-11-01</td>\n",
       "      <td>Vehicle loan or lease</td>\n",
       "      <td>Loan</td>\n",
       "      <td>Struggling to pay your loan</td>\n",
       "      <td>Denied request to lower payments</td>\n",
       "      <td>I contacted Ally on Friday XX/XX/XXXX after fa...</td>\n",
       "      <td>Company has responded to the consumer and the ...</td>\n",
       "      <td>ALLY FINANCIAL INC.</td>\n",
       "      <td>NJ</td>\n",
       "      <td>088XX</td>\n",
       "      <td>NaN</td>\n",
       "      <td>Consent provided</td>\n",
       "      <td>Web</td>\n",
       "      <td>2019-11-01</td>\n",
       "      <td>Closed with explanation</td>\n",
       "      <td>Yes</td>\n",
       "      <td>NaN</td>\n",
       "      <td>3425257</td>\n",
       "    </tr>\n",
       "    <tr>\n",
       "      <th>2</th>\n",
       "      <td>2019-04-01</td>\n",
       "      <td>Credit reporting, credit repair services, or o...</td>\n",
       "      <td>Credit reporting</td>\n",
       "      <td>Incorrect information on your report</td>\n",
       "      <td>Account status incorrect</td>\n",
       "      <td>NaN</td>\n",
       "      <td>Company has responded to the consumer and the ...</td>\n",
       "      <td>TRANSUNION INTERMEDIATE HOLDINGS, INC.</td>\n",
       "      <td>PA</td>\n",
       "      <td>19067</td>\n",
       "      <td>NaN</td>\n",
       "      <td>Consent not provided</td>\n",
       "      <td>Web</td>\n",
       "      <td>2019-04-01</td>\n",
       "      <td>Closed with explanation</td>\n",
       "      <td>Yes</td>\n",
       "      <td>NaN</td>\n",
       "      <td>3198225</td>\n",
       "    </tr>\n",
       "    <tr>\n",
       "      <th>3</th>\n",
       "      <td>2021-06-08</td>\n",
       "      <td>Credit reporting, credit repair services, or o...</td>\n",
       "      <td>Credit reporting</td>\n",
       "      <td>Problem with a credit reporting company's inve...</td>\n",
       "      <td>Their investigation did not fix an error on yo...</td>\n",
       "      <td>NaN</td>\n",
       "      <td>NaN</td>\n",
       "      <td>EQUIFAX, INC.</td>\n",
       "      <td>CA</td>\n",
       "      <td>90262</td>\n",
       "      <td>NaN</td>\n",
       "      <td>Consent not provided</td>\n",
       "      <td>Web</td>\n",
       "      <td>2021-06-08</td>\n",
       "      <td>Closed with explanation</td>\n",
       "      <td>Yes</td>\n",
       "      <td>NaN</td>\n",
       "      <td>4443078</td>\n",
       "    </tr>\n",
       "    <tr>\n",
       "      <th>4</th>\n",
       "      <td>2019-08-08</td>\n",
       "      <td>Mortgage</td>\n",
       "      <td>Conventional home mortgage</td>\n",
       "      <td>Trouble during payment process</td>\n",
       "      <td>NaN</td>\n",
       "      <td>NaN</td>\n",
       "      <td>Company has responded to the consumer and the ...</td>\n",
       "      <td>FLAGSTAR BANK, FSB</td>\n",
       "      <td>ID</td>\n",
       "      <td>83706</td>\n",
       "      <td>NaN</td>\n",
       "      <td>NaN</td>\n",
       "      <td>Referral</td>\n",
       "      <td>2019-08-15</td>\n",
       "      <td>Closed with explanation</td>\n",
       "      <td>Yes</td>\n",
       "      <td>NaN</td>\n",
       "      <td>3342290</td>\n",
       "    </tr>\n",
       "  </tbody>\n",
       "</table>\n",
       "</div>"
      ],
      "text/plain": [
       "  Date received                                            Product  \\\n",
       "0    2019-06-13  Credit reporting, credit repair services, or o...   \n",
       "1    2019-11-01                              Vehicle loan or lease   \n",
       "2    2019-04-01  Credit reporting, credit repair services, or o...   \n",
       "3    2021-06-08  Credit reporting, credit repair services, or o...   \n",
       "4    2019-08-08                                           Mortgage   \n",
       "\n",
       "                  Sub-product  \\\n",
       "0            Credit reporting   \n",
       "1                        Loan   \n",
       "2            Credit reporting   \n",
       "3            Credit reporting   \n",
       "4  Conventional home mortgage   \n",
       "\n",
       "                                               Issue  \\\n",
       "0               Incorrect information on your report   \n",
       "1                        Struggling to pay your loan   \n",
       "2               Incorrect information on your report   \n",
       "3  Problem with a credit reporting company's inve...   \n",
       "4                     Trouble during payment process   \n",
       "\n",
       "                                           Sub-issue  \\\n",
       "0                Information belongs to someone else   \n",
       "1                   Denied request to lower payments   \n",
       "2                           Account status incorrect   \n",
       "3  Their investigation did not fix an error on yo...   \n",
       "4                                                NaN   \n",
       "\n",
       "                        Consumer complaint narrative  \\\n",
       "0                                                NaN   \n",
       "1  I contacted Ally on Friday XX/XX/XXXX after fa...   \n",
       "2                                                NaN   \n",
       "3                                                NaN   \n",
       "4                                                NaN   \n",
       "\n",
       "                             Company public response  \\\n",
       "0                                                NaN   \n",
       "1  Company has responded to the consumer and the ...   \n",
       "2  Company has responded to the consumer and the ...   \n",
       "3                                                NaN   \n",
       "4  Company has responded to the consumer and the ...   \n",
       "\n",
       "                                  Company State ZIP code Tags  \\\n",
       "0       CAPITAL ONE FINANCIAL CORPORATION    PA    186XX  NaN   \n",
       "1                     ALLY FINANCIAL INC.    NJ    088XX  NaN   \n",
       "2  TRANSUNION INTERMEDIATE HOLDINGS, INC.    PA    19067  NaN   \n",
       "3                           EQUIFAX, INC.    CA    90262  NaN   \n",
       "4                      FLAGSTAR BANK, FSB    ID    83706  NaN   \n",
       "\n",
       "  Consumer consent provided? Submitted via Date sent to company  \\\n",
       "0       Consent not provided           Web           2019-06-13   \n",
       "1           Consent provided           Web           2019-11-01   \n",
       "2       Consent not provided           Web           2019-04-01   \n",
       "3       Consent not provided           Web           2021-06-08   \n",
       "4                        NaN      Referral           2019-08-15   \n",
       "\n",
       "  Company response to consumer Timely response? Consumer disputed?  \\\n",
       "0      Closed with explanation              Yes                NaN   \n",
       "1      Closed with explanation              Yes                NaN   \n",
       "2      Closed with explanation              Yes                NaN   \n",
       "3      Closed with explanation              Yes                NaN   \n",
       "4      Closed with explanation              Yes                NaN   \n",
       "\n",
       "   Complaint ID  \n",
       "0       3274605  \n",
       "1       3425257  \n",
       "2       3198225  \n",
       "3       4443078  \n",
       "4       3342290  "
      ]
     },
     "metadata": {},
     "output_type": "display_data"
    },
    {
     "name": "stdout",
     "output_type": "stream",
     "text": [
      "(2304232, 18)\n"
     ]
    }
   ],
   "source": [
    "display(complaints.head())\n",
    "print(complaints.shape)"
   ]
  },
  {
   "cell_type": "code",
   "execution_count": 4,
   "id": "06e65a43-8353-4ff7-86fc-5c39b3b44870",
   "metadata": {},
   "outputs": [
    {
     "data": {
      "text/plain": [
       "(       Complaint ID\n",
       " count  2.304232e+06\n",
       " mean   2.817661e+06\n",
       " std    1.261536e+06\n",
       " min    1.000000e+00\n",
       " 25%    1.936475e+06\n",
       " 50%    3.053620e+06\n",
       " 75%    3.803410e+06\n",
       " max    4.814948e+06,\n",
       " Date received                   object\n",
       " Product                         object\n",
       " Sub-product                     object\n",
       " Issue                           object\n",
       " Sub-issue                       object\n",
       " Consumer complaint narrative    object\n",
       " Company public response         object\n",
       " Company                         object\n",
       " State                           object\n",
       " ZIP code                        object\n",
       " Tags                            object\n",
       " Consumer consent provided?      object\n",
       " Submitted via                   object\n",
       " Date sent to company            object\n",
       " Company response to consumer    object\n",
       " Timely response?                object\n",
       " Consumer disputed?              object\n",
       " Complaint ID                     int64\n",
       " dtype: object)"
      ]
     },
     "execution_count": 4,
     "metadata": {},
     "output_type": "execute_result"
    }
   ],
   "source": [
    "# Only Complaint ID is numeric, and should be removed, since it is just an ID\n",
    "complaints.describe(), complaints.dtypes "
   ]
  },
  {
   "cell_type": "code",
   "execution_count": 5,
   "id": "69a527e2-37fd-44d6-9057-214843afca18",
   "metadata": {},
   "outputs": [],
   "source": [
    "complaints.drop('Complaint ID', inplace=True, axis=1)"
   ]
  },
  {
   "cell_type": "code",
   "execution_count": 6,
   "id": "8aae5477-1df3-4614-8eb5-64f47d45bdca",
   "metadata": {},
   "outputs": [
    {
     "data": {
      "text/html": [
       "<div>\n",
       "<style scoped>\n",
       "    .dataframe tbody tr th:only-of-type {\n",
       "        vertical-align: middle;\n",
       "    }\n",
       "\n",
       "    .dataframe tbody tr th {\n",
       "        vertical-align: top;\n",
       "    }\n",
       "\n",
       "    .dataframe thead th {\n",
       "        text-align: right;\n",
       "    }\n",
       "</style>\n",
       "<table border=\"1\" class=\"dataframe\">\n",
       "  <thead>\n",
       "    <tr style=\"text-align: right;\">\n",
       "      <th></th>\n",
       "      <th>Date received</th>\n",
       "      <th>Product</th>\n",
       "      <th>Sub-product</th>\n",
       "      <th>Issue</th>\n",
       "      <th>Sub-issue</th>\n",
       "      <th>Consumer complaint narrative</th>\n",
       "      <th>Company public response</th>\n",
       "      <th>Company</th>\n",
       "      <th>State</th>\n",
       "      <th>ZIP code</th>\n",
       "      <th>Tags</th>\n",
       "      <th>Consumer consent provided?</th>\n",
       "      <th>Submitted via</th>\n",
       "      <th>Date sent to company</th>\n",
       "      <th>Company response to consumer</th>\n",
       "      <th>Timely response?</th>\n",
       "      <th>Consumer disputed?</th>\n",
       "    </tr>\n",
       "  </thead>\n",
       "  <tbody>\n",
       "    <tr>\n",
       "      <th>count</th>\n",
       "      <td>2304232</td>\n",
       "      <td>2304232</td>\n",
       "      <td>2069068</td>\n",
       "      <td>2304232</td>\n",
       "      <td>1671049</td>\n",
       "      <td>799826</td>\n",
       "      <td>949594</td>\n",
       "      <td>2304232</td>\n",
       "      <td>2264516</td>\n",
       "      <td>2081358</td>\n",
       "      <td>282649</td>\n",
       "      <td>1580131</td>\n",
       "      <td>2304232</td>\n",
       "      <td>2304232</td>\n",
       "      <td>2304231</td>\n",
       "      <td>2304232</td>\n",
       "      <td>768459</td>\n",
       "    </tr>\n",
       "    <tr>\n",
       "      <th>unique</th>\n",
       "      <td>3606</td>\n",
       "      <td>18</td>\n",
       "      <td>76</td>\n",
       "      <td>165</td>\n",
       "      <td>221</td>\n",
       "      <td>720378</td>\n",
       "      <td>11</td>\n",
       "      <td>6171</td>\n",
       "      <td>63</td>\n",
       "      <td>25556</td>\n",
       "      <td>3</td>\n",
       "      <td>4</td>\n",
       "      <td>6</td>\n",
       "      <td>3556</td>\n",
       "      <td>8</td>\n",
       "      <td>2</td>\n",
       "      <td>2</td>\n",
       "    </tr>\n",
       "    <tr>\n",
       "      <th>top</th>\n",
       "      <td>2017-09-08</td>\n",
       "      <td>Credit reporting, credit repair services, or o...</td>\n",
       "      <td>Credit reporting</td>\n",
       "      <td>Incorrect information on your report</td>\n",
       "      <td>Information belongs to someone else</td>\n",
       "      <td>There are many mistakes appear in my report wi...</td>\n",
       "      <td>Company has responded to the consumer and the ...</td>\n",
       "      <td>EQUIFAX, INC.</td>\n",
       "      <td>CA</td>\n",
       "      <td>330XX</td>\n",
       "      <td>Servicemember</td>\n",
       "      <td>Consent provided</td>\n",
       "      <td>Web</td>\n",
       "      <td>2017-09-08</td>\n",
       "      <td>Closed with explanation</td>\n",
       "      <td>Yes</td>\n",
       "      <td>No</td>\n",
       "    </tr>\n",
       "    <tr>\n",
       "      <th>freq</th>\n",
       "      <td>3553</td>\n",
       "      <td>848479</td>\n",
       "      <td>838239</td>\n",
       "      <td>528086</td>\n",
       "      <td>332655</td>\n",
       "      <td>1035</td>\n",
       "      <td>765299</td>\n",
       "      <td>343119</td>\n",
       "      <td>297717</td>\n",
       "      <td>16889</td>\n",
       "      <td>150865</td>\n",
       "      <td>800174</td>\n",
       "      <td>1856285</td>\n",
       "      <td>3387</td>\n",
       "      <td>1894987</td>\n",
       "      <td>2260328</td>\n",
       "      <td>620081</td>\n",
       "    </tr>\n",
       "  </tbody>\n",
       "</table>\n",
       "</div>"
      ],
      "text/plain": [
       "       Date received                                            Product  \\\n",
       "count        2304232                                            2304232   \n",
       "unique          3606                                                 18   \n",
       "top       2017-09-08  Credit reporting, credit repair services, or o...   \n",
       "freq            3553                                             848479   \n",
       "\n",
       "             Sub-product                                 Issue  \\\n",
       "count            2069068                               2304232   \n",
       "unique                76                                   165   \n",
       "top     Credit reporting  Incorrect information on your report   \n",
       "freq              838239                                528086   \n",
       "\n",
       "                                  Sub-issue  \\\n",
       "count                               1671049   \n",
       "unique                                  221   \n",
       "top     Information belongs to someone else   \n",
       "freq                                 332655   \n",
       "\n",
       "                             Consumer complaint narrative  \\\n",
       "count                                              799826   \n",
       "unique                                             720378   \n",
       "top     There are many mistakes appear in my report wi...   \n",
       "freq                                                 1035   \n",
       "\n",
       "                                  Company public response        Company  \\\n",
       "count                                              949594        2304232   \n",
       "unique                                                 11           6171   \n",
       "top     Company has responded to the consumer and the ...  EQUIFAX, INC.   \n",
       "freq                                               765299         343119   \n",
       "\n",
       "          State ZIP code           Tags Consumer consent provided?  \\\n",
       "count   2264516  2081358         282649                    1580131   \n",
       "unique       63    25556              3                          4   \n",
       "top          CA    330XX  Servicemember           Consent provided   \n",
       "freq     297717    16889         150865                     800174   \n",
       "\n",
       "       Submitted via Date sent to company Company response to consumer  \\\n",
       "count        2304232              2304232                      2304231   \n",
       "unique             6                 3556                            8   \n",
       "top              Web           2017-09-08      Closed with explanation   \n",
       "freq         1856285                 3387                      1894987   \n",
       "\n",
       "       Timely response? Consumer disputed?  \n",
       "count           2304232             768459  \n",
       "unique                2                  2  \n",
       "top                 Yes                 No  \n",
       "freq            2260328             620081  "
      ]
     },
     "execution_count": 6,
     "metadata": {},
     "output_type": "execute_result"
    }
   ],
   "source": [
    "complaints.describe(include=['O']) # For object columns "
   ]
  },
  {
   "cell_type": "code",
   "execution_count": 7,
   "id": "62a1b297-3d4f-4c4e-a02c-ff31a6b8dc73",
   "metadata": {},
   "outputs": [
    {
     "data": {
      "text/plain": [
       "Index(['Date_Received', 'Product', 'Sub_Product', 'Issue', 'Sub_Issue',\n",
       "       'Consumer_Complaint_Narrative', 'Company_Public_Response', 'Company',\n",
       "       'State', 'Zip_Code', 'Tags', 'Consumer_Consent_Provided?',\n",
       "       'Submitted_Via', 'Date_Sent_To_Company', 'Company_Response_To_Consumer',\n",
       "       'Timely_Response?', 'Consumer_Disputed?'],\n",
       "      dtype='object')"
      ]
     },
     "execution_count": 7,
     "metadata": {},
     "output_type": "execute_result"
    }
   ],
   "source": [
    "# Rename columns in better format\n",
    "complaints.columns = [col.strip().title().replace(' ',\"_\").replace('-',\"_\") for col in complaints.columns]\n",
    "complaints.columns"
   ]
  },
  {
   "cell_type": "code",
   "execution_count": 88,
   "id": "24d6d724-2a0b-463d-ba14-334a035eb048",
   "metadata": {},
   "outputs": [],
   "source": [
    "correlated_features = set()\n",
    "correlation_matrix = complaints.corr()\n",
    "for i in range(len(correlation_matrix .columns)):\n",
    "    for j in range(i):\n",
    "        if abs(correlation_matrix.iloc[i, j]) > 0.8:\n",
    "            colname = correlation_matrix.columns[i]\n",
    "            correlated_features.add(colname)"
   ]
  },
  {
   "cell_type": "markdown",
   "id": "9d7b1987-fab4-452e-8f12-de157dc07af2",
   "metadata": {},
   "source": [
    "<strong> IMPORTANT: </strong>\n",
    "As per the task's description, our task nature is NLP related. Therefore, we can safely keep only the columns that contain textual information."
   ]
  },
  {
   "cell_type": "code",
   "execution_count": 8,
   "id": "1c06874e-ac33-4743-bb02-8b3707b19228",
   "metadata": {},
   "outputs": [],
   "source": [
    "textual_columns = ['Sub_Product','Issue','Consumer_Complaint_Narrative', 'Company']\n",
    "target = 'Product' # Target column - multi-class classification"
   ]
  },
  {
   "cell_type": "code",
   "execution_count": 9,
   "id": "53d4c2b0-52d9-4ca5-bd15-49ff347332bf",
   "metadata": {
    "jp-MarkdownHeadingCollapsed": true,
    "tags": []
   },
   "outputs": [
    {
     "data": {
      "text/plain": [
       "array([nan,\n",
       "       'Company has responded to the consumer and the CFPB and chooses not to provide a public response',\n",
       "       'Company believes it acted appropriately as authorized by contract or law',\n",
       "       'Company disputes the facts presented in the complaint',\n",
       "       'Company believes complaint caused principally by actions of third party outside the control or direction of the company',\n",
       "       'Company believes the complaint is the result of a misunderstanding',\n",
       "       \"Company can't verify or dispute the facts in the complaint\",\n",
       "       'Company believes complaint is the result of an isolated error',\n",
       "       'Company chooses not to provide a public response',\n",
       "       'Company believes complaint represents an opportunity for improvement to better serve consumers',\n",
       "       'Company believes complaint relates to a discontinued policy or procedure',\n",
       "       \"Company believes the complaint provided an opportunity to answer consumer's questions\"],\n",
       "      dtype=object)"
      ]
     },
     "execution_count": 9,
     "metadata": {},
     "output_type": "execute_result"
    }
   ],
   "source": [
    "# I have not included the values from the column 'Company_Public_Response' since the texts are automated \n",
    "# and they will not add any value to our model\n",
    "complaints['Company_Public_Response'].unique()"
   ]
  },
  {
   "cell_type": "code",
   "execution_count": 10,
   "id": "208743b4-32fa-4bb1-9786-6aaec6af86b7",
   "metadata": {},
   "outputs": [
    {
     "data": {
      "text/html": [
       "<div>\n",
       "<style scoped>\n",
       "    .dataframe tbody tr th:only-of-type {\n",
       "        vertical-align: middle;\n",
       "    }\n",
       "\n",
       "    .dataframe tbody tr th {\n",
       "        vertical-align: top;\n",
       "    }\n",
       "\n",
       "    .dataframe thead th {\n",
       "        text-align: right;\n",
       "    }\n",
       "</style>\n",
       "<table border=\"1\" class=\"dataframe\">\n",
       "  <thead>\n",
       "    <tr style=\"text-align: right;\">\n",
       "      <th></th>\n",
       "      <th>Sub_Product</th>\n",
       "      <th>Issue</th>\n",
       "      <th>Consumer_Complaint_Narrative</th>\n",
       "      <th>Company</th>\n",
       "      <th>Product</th>\n",
       "    </tr>\n",
       "  </thead>\n",
       "  <tbody>\n",
       "    <tr>\n",
       "      <th>0</th>\n",
       "      <td>Credit reporting</td>\n",
       "      <td>Incorrect information on your report</td>\n",
       "      <td>NaN</td>\n",
       "      <td>CAPITAL ONE FINANCIAL CORPORATION</td>\n",
       "      <td>Credit reporting, credit repair services, or o...</td>\n",
       "    </tr>\n",
       "    <tr>\n",
       "      <th>1</th>\n",
       "      <td>Loan</td>\n",
       "      <td>Struggling to pay your loan</td>\n",
       "      <td>I contacted Ally on Friday XX/XX/XXXX after fa...</td>\n",
       "      <td>ALLY FINANCIAL INC.</td>\n",
       "      <td>Vehicle loan or lease</td>\n",
       "    </tr>\n",
       "    <tr>\n",
       "      <th>2</th>\n",
       "      <td>Credit reporting</td>\n",
       "      <td>Incorrect information on your report</td>\n",
       "      <td>NaN</td>\n",
       "      <td>TRANSUNION INTERMEDIATE HOLDINGS, INC.</td>\n",
       "      <td>Credit reporting, credit repair services, or o...</td>\n",
       "    </tr>\n",
       "    <tr>\n",
       "      <th>3</th>\n",
       "      <td>Credit reporting</td>\n",
       "      <td>Problem with a credit reporting company's inve...</td>\n",
       "      <td>NaN</td>\n",
       "      <td>EQUIFAX, INC.</td>\n",
       "      <td>Credit reporting, credit repair services, or o...</td>\n",
       "    </tr>\n",
       "    <tr>\n",
       "      <th>4</th>\n",
       "      <td>Conventional home mortgage</td>\n",
       "      <td>Trouble during payment process</td>\n",
       "      <td>NaN</td>\n",
       "      <td>FLAGSTAR BANK, FSB</td>\n",
       "      <td>Mortgage</td>\n",
       "    </tr>\n",
       "    <tr>\n",
       "      <th>5</th>\n",
       "      <td>Credit reporting</td>\n",
       "      <td>Problem with a credit reporting company's inve...</td>\n",
       "      <td>Hello This complaint is against the three cred...</td>\n",
       "      <td>TRANSUNION INTERMEDIATE HOLDINGS, INC.</td>\n",
       "      <td>Credit reporting, credit repair services, or o...</td>\n",
       "    </tr>\n",
       "    <tr>\n",
       "      <th>6</th>\n",
       "      <td>Credit reporting</td>\n",
       "      <td>Improper use of your report</td>\n",
       "      <td>I am a victim of Identity Theft &amp; currently ha...</td>\n",
       "      <td>Experian Information Solutions Inc.</td>\n",
       "      <td>Credit reporting, credit repair services, or o...</td>\n",
       "    </tr>\n",
       "  </tbody>\n",
       "</table>\n",
       "</div>"
      ],
      "text/plain": [
       "                  Sub_Product  \\\n",
       "0            Credit reporting   \n",
       "1                        Loan   \n",
       "2            Credit reporting   \n",
       "3            Credit reporting   \n",
       "4  Conventional home mortgage   \n",
       "5            Credit reporting   \n",
       "6            Credit reporting   \n",
       "\n",
       "                                               Issue  \\\n",
       "0               Incorrect information on your report   \n",
       "1                        Struggling to pay your loan   \n",
       "2               Incorrect information on your report   \n",
       "3  Problem with a credit reporting company's inve...   \n",
       "4                     Trouble during payment process   \n",
       "5  Problem with a credit reporting company's inve...   \n",
       "6                        Improper use of your report   \n",
       "\n",
       "                        Consumer_Complaint_Narrative  \\\n",
       "0                                                NaN   \n",
       "1  I contacted Ally on Friday XX/XX/XXXX after fa...   \n",
       "2                                                NaN   \n",
       "3                                                NaN   \n",
       "4                                                NaN   \n",
       "5  Hello This complaint is against the three cred...   \n",
       "6  I am a victim of Identity Theft & currently ha...   \n",
       "\n",
       "                                  Company  \\\n",
       "0       CAPITAL ONE FINANCIAL CORPORATION   \n",
       "1                     ALLY FINANCIAL INC.   \n",
       "2  TRANSUNION INTERMEDIATE HOLDINGS, INC.   \n",
       "3                           EQUIFAX, INC.   \n",
       "4                      FLAGSTAR BANK, FSB   \n",
       "5  TRANSUNION INTERMEDIATE HOLDINGS, INC.   \n",
       "6     Experian Information Solutions Inc.   \n",
       "\n",
       "                                             Product  \n",
       "0  Credit reporting, credit repair services, or o...  \n",
       "1                              Vehicle loan or lease  \n",
       "2  Credit reporting, credit repair services, or o...  \n",
       "3  Credit reporting, credit repair services, or o...  \n",
       "4                                           Mortgage  \n",
       "5  Credit reporting, credit repair services, or o...  \n",
       "6  Credit reporting, credit repair services, or o...  "
      ]
     },
     "execution_count": 10,
     "metadata": {},
     "output_type": "execute_result"
    }
   ],
   "source": [
    "complaints_only_text_df = complaints[textual_columns + [target]]\n",
    "complaints_only_text_df.head(7)"
   ]
  },
  {
   "cell_type": "code",
   "execution_count": 11,
   "id": "f89f479c-b6c8-416a-9b05-6fb8359ef979",
   "metadata": {},
   "outputs": [
    {
     "data": {
      "text/plain": [
       "Sub_Product                      235164\n",
       "Issue                                 0\n",
       "Consumer_Complaint_Narrative    1504406\n",
       "Company                               0\n",
       "Product                               0\n",
       "dtype: int64"
      ]
     },
     "execution_count": 11,
     "metadata": {},
     "output_type": "execute_result"
    }
   ],
   "source": [
    "complaints_only_text_df.isna().sum()"
   ]
  },
  {
   "cell_type": "markdown",
   "id": "23431efb-63f6-475d-9f50-44fe87b4216a",
   "metadata": {},
   "source": [
    "We see that there a lot of nan values in the `Consumer_Complaint_Narrative` column. We want to keep only the non-NaN values."
   ]
  },
  {
   "cell_type": "code",
   "execution_count": 12,
   "id": "32682c23-31c2-46f3-a719-d7da724fb45a",
   "metadata": {},
   "outputs": [
    {
     "data": {
      "text/html": [
       "<div>\n",
       "<style scoped>\n",
       "    .dataframe tbody tr th:only-of-type {\n",
       "        vertical-align: middle;\n",
       "    }\n",
       "\n",
       "    .dataframe tbody tr th {\n",
       "        vertical-align: top;\n",
       "    }\n",
       "\n",
       "    .dataframe thead th {\n",
       "        text-align: right;\n",
       "    }\n",
       "</style>\n",
       "<table border=\"1\" class=\"dataframe\">\n",
       "  <thead>\n",
       "    <tr style=\"text-align: right;\">\n",
       "      <th></th>\n",
       "      <th>Sub_Product</th>\n",
       "      <th>Issue</th>\n",
       "      <th>Consumer_Complaint_Narrative</th>\n",
       "      <th>Company</th>\n",
       "      <th>Product</th>\n",
       "    </tr>\n",
       "  </thead>\n",
       "  <tbody>\n",
       "    <tr>\n",
       "      <th>0</th>\n",
       "      <td>Loan</td>\n",
       "      <td>Struggling to pay your loan</td>\n",
       "      <td>I contacted Ally on Friday XX/XX/XXXX after fa...</td>\n",
       "      <td>ALLY FINANCIAL INC.</td>\n",
       "      <td>Vehicle loan or lease</td>\n",
       "    </tr>\n",
       "    <tr>\n",
       "      <th>1</th>\n",
       "      <td>Credit reporting</td>\n",
       "      <td>Problem with a credit reporting company's inve...</td>\n",
       "      <td>Hello This complaint is against the three cred...</td>\n",
       "      <td>TRANSUNION INTERMEDIATE HOLDINGS, INC.</td>\n",
       "      <td>Credit reporting, credit repair services, or o...</td>\n",
       "    </tr>\n",
       "    <tr>\n",
       "      <th>2</th>\n",
       "      <td>Credit reporting</td>\n",
       "      <td>Improper use of your report</td>\n",
       "      <td>I am a victim of Identity Theft &amp; currently ha...</td>\n",
       "      <td>Experian Information Solutions Inc.</td>\n",
       "      <td>Credit reporting, credit repair services, or o...</td>\n",
       "    </tr>\n",
       "    <tr>\n",
       "      <th>3</th>\n",
       "      <td>Credit reporting</td>\n",
       "      <td>Incorrect information on your report</td>\n",
       "      <td>Two accounts are still on my credit history af...</td>\n",
       "      <td>Experian Information Solutions Inc.</td>\n",
       "      <td>Credit reporting, credit repair services, or o...</td>\n",
       "    </tr>\n",
       "    <tr>\n",
       "      <th>4</th>\n",
       "      <td>Other personal consumer report</td>\n",
       "      <td>Identity theft protection or other monitoring ...</td>\n",
       "      <td>Receiving daily telephone call ( s ) from XXXX...</td>\n",
       "      <td>NRA Group, LLC</td>\n",
       "      <td>Credit reporting, credit repair services, or o...</td>\n",
       "    </tr>\n",
       "    <tr>\n",
       "      <th>...</th>\n",
       "      <td>...</td>\n",
       "      <td>...</td>\n",
       "      <td>...</td>\n",
       "      <td>...</td>\n",
       "      <td>...</td>\n",
       "    </tr>\n",
       "    <tr>\n",
       "      <th>799821</th>\n",
       "      <td>NaN</td>\n",
       "      <td>Delinquent account</td>\n",
       "      <td>Automated calls from \" XXXX with Capital One '...</td>\n",
       "      <td>CAPITAL ONE FINANCIAL CORPORATION</td>\n",
       "      <td>Credit card</td>\n",
       "    </tr>\n",
       "    <tr>\n",
       "      <th>799822</th>\n",
       "      <td>I do not know</td>\n",
       "      <td>Cont'd attempts collect debt not owed</td>\n",
       "      <td>I have disputed my debts several times with no...</td>\n",
       "      <td>Bonneville Billing and Collections</td>\n",
       "      <td>Debt collection</td>\n",
       "    </tr>\n",
       "    <tr>\n",
       "      <th>799823</th>\n",
       "      <td>Conventional fixed mortgage</td>\n",
       "      <td>Loan modification,collection,foreclosure</td>\n",
       "      <td>My father died in XX/XX/XXXX. Left me his only...</td>\n",
       "      <td>CITIBANK, N.A.</td>\n",
       "      <td>Mortgage</td>\n",
       "    </tr>\n",
       "    <tr>\n",
       "      <th>799824</th>\n",
       "      <td>NaN</td>\n",
       "      <td>Credit reporting company's investigation</td>\n",
       "      <td>cfbp i would Like to file a complaint on Exper...</td>\n",
       "      <td>Experian Information Solutions Inc.</td>\n",
       "      <td>Credit reporting</td>\n",
       "    </tr>\n",
       "    <tr>\n",
       "      <th>799825</th>\n",
       "      <td>NaN</td>\n",
       "      <td>Incorrect information on credit report</td>\n",
       "      <td>My husband and I are in the middle of an FHA S...</td>\n",
       "      <td>TRANSUNION INTERMEDIATE HOLDINGS, INC.</td>\n",
       "      <td>Credit reporting</td>\n",
       "    </tr>\n",
       "  </tbody>\n",
       "</table>\n",
       "<p>799826 rows × 5 columns</p>\n",
       "</div>"
      ],
      "text/plain": [
       "                           Sub_Product  \\\n",
       "0                                 Loan   \n",
       "1                     Credit reporting   \n",
       "2                     Credit reporting   \n",
       "3                     Credit reporting   \n",
       "4       Other personal consumer report   \n",
       "...                                ...   \n",
       "799821                             NaN   \n",
       "799822                   I do not know   \n",
       "799823     Conventional fixed mortgage   \n",
       "799824                             NaN   \n",
       "799825                             NaN   \n",
       "\n",
       "                                                    Issue  \\\n",
       "0                             Struggling to pay your loan   \n",
       "1       Problem with a credit reporting company's inve...   \n",
       "2                             Improper use of your report   \n",
       "3                    Incorrect information on your report   \n",
       "4       Identity theft protection or other monitoring ...   \n",
       "...                                                   ...   \n",
       "799821                                 Delinquent account   \n",
       "799822              Cont'd attempts collect debt not owed   \n",
       "799823           Loan modification,collection,foreclosure   \n",
       "799824           Credit reporting company's investigation   \n",
       "799825             Incorrect information on credit report   \n",
       "\n",
       "                             Consumer_Complaint_Narrative  \\\n",
       "0       I contacted Ally on Friday XX/XX/XXXX after fa...   \n",
       "1       Hello This complaint is against the three cred...   \n",
       "2       I am a victim of Identity Theft & currently ha...   \n",
       "3       Two accounts are still on my credit history af...   \n",
       "4       Receiving daily telephone call ( s ) from XXXX...   \n",
       "...                                                   ...   \n",
       "799821  Automated calls from \" XXXX with Capital One '...   \n",
       "799822  I have disputed my debts several times with no...   \n",
       "799823  My father died in XX/XX/XXXX. Left me his only...   \n",
       "799824  cfbp i would Like to file a complaint on Exper...   \n",
       "799825  My husband and I are in the middle of an FHA S...   \n",
       "\n",
       "                                       Company  \\\n",
       "0                          ALLY FINANCIAL INC.   \n",
       "1       TRANSUNION INTERMEDIATE HOLDINGS, INC.   \n",
       "2          Experian Information Solutions Inc.   \n",
       "3          Experian Information Solutions Inc.   \n",
       "4                               NRA Group, LLC   \n",
       "...                                        ...   \n",
       "799821       CAPITAL ONE FINANCIAL CORPORATION   \n",
       "799822      Bonneville Billing and Collections   \n",
       "799823                          CITIBANK, N.A.   \n",
       "799824     Experian Information Solutions Inc.   \n",
       "799825  TRANSUNION INTERMEDIATE HOLDINGS, INC.   \n",
       "\n",
       "                                                  Product  \n",
       "0                                   Vehicle loan or lease  \n",
       "1       Credit reporting, credit repair services, or o...  \n",
       "2       Credit reporting, credit repair services, or o...  \n",
       "3       Credit reporting, credit repair services, or o...  \n",
       "4       Credit reporting, credit repair services, or o...  \n",
       "...                                                   ...  \n",
       "799821                                        Credit card  \n",
       "799822                                    Debt collection  \n",
       "799823                                           Mortgage  \n",
       "799824                                   Credit reporting  \n",
       "799825                                   Credit reporting  \n",
       "\n",
       "[799826 rows x 5 columns]"
      ]
     },
     "execution_count": 12,
     "metadata": {},
     "output_type": "execute_result"
    }
   ],
   "source": [
    "complaints_only_text_df = complaints_only_text_df[complaints_only_text_df['Consumer_Complaint_Narrative'].notna()].reset_index(drop=True)\n",
    "complaints_only_text_df"
   ]
  },
  {
   "cell_type": "markdown",
   "id": "8415d683-ca47-4784-a553-8e160cbf83a1",
   "metadata": {},
   "source": [
    "We have successfully reduced the number of rows to ~800,000 from 2,3 million.\n",
    "\n",
    "Now, let's see explore our target distribution."
   ]
  },
  {
   "cell_type": "code",
   "execution_count": 13,
   "id": "594e7f25-b2df-4de6-a8c6-5d744d68cd1b",
   "metadata": {},
   "outputs": [
    {
     "data": {
      "text/plain": [
       "array(['Vehicle loan or lease',\n",
       "       'Credit reporting, credit repair services, or other personal consumer reports',\n",
       "       'Credit card or prepaid card',\n",
       "       'Money transfer, virtual currency, or money service', 'Mortgage',\n",
       "       'Payday loan, title loan, or personal loan', 'Debt collection',\n",
       "       'Checking or savings account', 'Student loan', 'Consumer Loan',\n",
       "       'Money transfers', 'Credit card', 'Bank account or service',\n",
       "       'Credit reporting', 'Prepaid card', 'Payday loan',\n",
       "       'Other financial service', 'Virtual currency'], dtype=object)"
      ]
     },
     "execution_count": 13,
     "metadata": {},
     "output_type": "execute_result"
    }
   ],
   "source": [
    "complaints_only_text_df['Product'].unique()"
   ]
  },
  {
   "cell_type": "code",
   "execution_count": 14,
   "id": "e4916ff5-a37b-4789-87de-ee443a3a6fc8",
   "metadata": {},
   "outputs": [
    {
     "data": {
      "text/plain": [
       "18"
      ]
     },
     "execution_count": 14,
     "metadata": {},
     "output_type": "execute_result"
    }
   ],
   "source": [
    "complaints_only_text_df['Product'].nunique() # 18 classes in total - We suppose each one of them is indepedent"
   ]
  },
  {
   "cell_type": "code",
   "execution_count": 15,
   "id": "4a7370f1-1f06-47a1-9439-519ccb21515b",
   "metadata": {},
   "outputs": [
    {
     "data": {
      "text/plain": [
       "Credit reporting, credit repair services, or other personal consumer reports    311186\n",
       "Debt collection                                                                 155814\n",
       "Mortgage                                                                         83872\n",
       "Credit card or prepaid card                                                      59989\n",
       "Checking or savings account                                                      36816\n",
       "Credit reporting                                                                 31588\n",
       "Student loan                                                                     28996\n",
       "Credit card                                                                      18838\n",
       "Money transfer, virtual currency, or money service                               18256\n",
       "Bank account or service                                                          14885\n",
       "Vehicle loan or lease                                                            14810\n",
       "Payday loan, title loan, or personal loan                                        10305\n",
       "Consumer Loan                                                                     9470\n",
       "Payday loan                                                                       1746\n",
       "Money transfers                                                                   1497\n",
       "Prepaid card                                                                      1450\n",
       "Other financial service                                                            292\n",
       "Virtual currency                                                                    16\n",
       "Name: Product, dtype: int64"
      ]
     },
     "execution_count": 15,
     "metadata": {},
     "output_type": "execute_result"
    }
   ],
   "source": [
    "complaints_only_text_df['Product'].value_counts() # We notice that our dataset is imbalanced"
   ]
  },
  {
   "cell_type": "markdown",
   "id": "165094f4-e553-421a-a35b-82f03a36bf59",
   "metadata": {},
   "source": [
    "Now, since the task does not specify what columns to use,we will only use the `Consumer_Complaint_Narrative` column for the construction of our NLP model. Of course the target, `Product` will be included."
   ]
  },
  {
   "cell_type": "code",
   "execution_count": 16,
   "id": "079ca9d9-8f69-4425-83b6-3c8382ef5020",
   "metadata": {},
   "outputs": [
    {
     "data": {
      "text/html": [
       "<div>\n",
       "<style scoped>\n",
       "    .dataframe tbody tr th:only-of-type {\n",
       "        vertical-align: middle;\n",
       "    }\n",
       "\n",
       "    .dataframe tbody tr th {\n",
       "        vertical-align: top;\n",
       "    }\n",
       "\n",
       "    .dataframe thead th {\n",
       "        text-align: right;\n",
       "    }\n",
       "</style>\n",
       "<table border=\"1\" class=\"dataframe\">\n",
       "  <thead>\n",
       "    <tr style=\"text-align: right;\">\n",
       "      <th></th>\n",
       "      <th>Consumer_Complaint_Narrative</th>\n",
       "      <th>Product</th>\n",
       "    </tr>\n",
       "  </thead>\n",
       "  <tbody>\n",
       "    <tr>\n",
       "      <th>0</th>\n",
       "      <td>I contacted Ally on Friday XX/XX/XXXX after fa...</td>\n",
       "      <td>Vehicle loan or lease</td>\n",
       "    </tr>\n",
       "    <tr>\n",
       "      <th>1</th>\n",
       "      <td>Hello This complaint is against the three cred...</td>\n",
       "      <td>Credit reporting, credit repair services, or o...</td>\n",
       "    </tr>\n",
       "    <tr>\n",
       "      <th>2</th>\n",
       "      <td>I am a victim of Identity Theft &amp; currently ha...</td>\n",
       "      <td>Credit reporting, credit repair services, or o...</td>\n",
       "    </tr>\n",
       "    <tr>\n",
       "      <th>3</th>\n",
       "      <td>Two accounts are still on my credit history af...</td>\n",
       "      <td>Credit reporting, credit repair services, or o...</td>\n",
       "    </tr>\n",
       "    <tr>\n",
       "      <th>4</th>\n",
       "      <td>Receiving daily telephone call ( s ) from XXXX...</td>\n",
       "      <td>Credit reporting, credit repair services, or o...</td>\n",
       "    </tr>\n",
       "  </tbody>\n",
       "</table>\n",
       "</div>"
      ],
      "text/plain": [
       "                        Consumer_Complaint_Narrative  \\\n",
       "0  I contacted Ally on Friday XX/XX/XXXX after fa...   \n",
       "1  Hello This complaint is against the three cred...   \n",
       "2  I am a victim of Identity Theft & currently ha...   \n",
       "3  Two accounts are still on my credit history af...   \n",
       "4  Receiving daily telephone call ( s ) from XXXX...   \n",
       "\n",
       "                                             Product  \n",
       "0                              Vehicle loan or lease  \n",
       "1  Credit reporting, credit repair services, or o...  \n",
       "2  Credit reporting, credit repair services, or o...  \n",
       "3  Credit reporting, credit repair services, or o...  \n",
       "4  Credit reporting, credit repair services, or o...  "
      ]
     },
     "execution_count": 16,
     "metadata": {},
     "output_type": "execute_result"
    }
   ],
   "source": [
    "complaints_only_text_df = complaints_only_text_df[['Consumer_Complaint_Narrative','Product']]\n",
    "complaints_only_text_df.head()"
   ]
  },
  {
   "cell_type": "code",
   "execution_count": 17,
   "id": "cff1f08c-a756-4206-843a-c41cc845182a",
   "metadata": {},
   "outputs": [
    {
     "data": {
      "text/plain": [
       "Text(0.5, 0, 'Products')"
      ]
     },
     "execution_count": 17,
     "metadata": {},
     "output_type": "execute_result"
    },
    {
     "data": {
      "image/png": "[encoded data removed]",
      "text/plain": [
       "<Figure size 1008x432 with 1 Axes>"
      ]
     },
     "metadata": {
      "needs_background": "light"
     },
     "output_type": "display_data"
    }
   ],
   "source": [
    "complaints_only_text_df.groupby('Product').Consumer_Complaint_Narrative.count().plot.bar(title='Per product number of complaints', figsize=(14,6))\n",
    "plt.ylabel('Number of ocurrences', fontsize = 12)\n",
    "plt.xlabel('Products', fontsize = 12)"
   ]
  },
  {
   "cell_type": "markdown",
   "id": "202c85cd-9027-43af-97cd-99bf973c39cc",
   "metadata": {},
   "source": [
    "Perhaps we can remove the least populated classes since there only few examples of them or merge some classes, since from their description they are similar. For instance, `Credit Reporting` can be a subset of `Credit reporting, credit repair services, or other personal consumer reports`. \n",
    "\n",
    "Normally, we would like to do something about the class imbalance (e.g class weighting). Again, the task does not specify the total number of classes, therefore there is no restriction or specific requirement as the total number of classes.\n",
    "\n",
    "Taking all this into consideration, we will make the following changes to the dataset.\n",
    "- We will merge the following columns:\n",
    "   - Credit reporting -> Credit reporting, credit repair services, or other personal consumer reports\n",
    "   - Prepaid card, Credit card -> Credit card or prepaid card \n",
    "   - Payday loan -> Payday loan, title loan, or personal loan\n",
    "   - Money transfer, Virtual currency, Money transfers -> Money transfer, virtual currency, or money service\n",
    "   - Other financial service -> Credit reporting, credit repair services, or other personal consumer reports (mode)\n",
    "- We will keep the 6 top classes. We can skip this step, but as I explained previously, there is no restriction to the total number of classes, hence we choose the 6 major classes."
   ]
  },
  {
   "cell_type": "code",
   "execution_count": 18,
   "id": "afaa9c90-80c9-45ac-b452-63bc261f4d94",
   "metadata": {},
   "outputs": [],
   "source": [
    "changes = {\n",
    "    'Credit reporting': 'Credit reporting, credit repair services, or other personal consumer reports',\n",
    "    'Prepaid card': 'Credit card or prepaid card',\n",
    "    'Credit card': 'Credit card or prepaid card',\n",
    "    'Payday loan': 'Payday loan, title loan, or personal loan',\n",
    "    'Money transfer': 'Money transfer, virtual currency, or money service',\n",
    "    'Money transfers': 'Money transfer, virtual currency, or money service',\n",
    "    'Virtual currency': 'Money transfer, virtual currency, or money service',\n",
    "    'Other financial service': 'Credit reporting, credit repair services, or other personal consumer reports'\n",
    "}\n",
    "\n",
    "text_df = complaints_only_text_df.copy()\n",
    "\n",
    "text_df['Product'] = complaints_only_text_df['Product'].replace(changes)"
   ]
  },
  {
   "cell_type": "code",
   "execution_count": 19,
   "id": "da9806b0-165f-44ad-aaae-33f91ecb1d21",
   "metadata": {},
   "outputs": [
    {
     "name": "stdout",
     "output_type": "stream",
     "text": [
      "Number of Classes: 11\n"
     ]
    },
    {
     "data": {
      "text/plain": [
       "Text(0.5, 0, 'Products')"
      ]
     },
     "execution_count": 19,
     "metadata": {},
     "output_type": "execute_result"
    },
    {
     "data": {
      "image/png": "[encoded data removed]",
      "text/plain": [
       "<Figure size 1008x432 with 1 Axes>"
      ]
     },
     "metadata": {
      "needs_background": "light"
     },
     "output_type": "display_data"
    }
   ],
   "source": [
    "print(f\"Number of Classes: {text_df.Product.nunique()}\") # reduced the classes to 12\n",
    "text_df.groupby('Product').Consumer_Complaint_Narrative.count().plot.bar(title='Per product number of complaints', figsize=(14,6))\n",
    "plt.ylabel('Number of ocurrences', fontsize = 12)\n",
    "plt.xlabel('Products', fontsize = 12)"
   ]
  },
  {
   "cell_type": "code",
   "execution_count": 20,
   "id": "e1fc7f63-a7eb-4005-8bf8-fb04f6cbe185",
   "metadata": {},
   "outputs": [
    {
     "data": {
      "text/plain": [
       "['Credit reporting, credit repair services, or other personal consumer reports',\n",
       " 'Debt collection',\n",
       " 'Mortgage',\n",
       " 'Credit card or prepaid card',\n",
       " 'Checking or savings account',\n",
       " 'Student loan']"
      ]
     },
     "execution_count": 20,
     "metadata": {},
     "output_type": "execute_result"
    }
   ],
   "source": [
    "top_populated_classes_list = text_df['Product'].value_counts()[:6].index.tolist() # remove the 13\n",
    "top_populated_classes_list"
   ]
  },
  {
   "cell_type": "code",
   "execution_count": 21,
   "id": "16364e8a-f753-476e-914f-bedbce5847d4",
   "metadata": {},
   "outputs": [
    {
     "name": "stdout",
     "output_type": "stream",
     "text": [
      "(728841, 2)\n"
     ]
    },
    {
     "data": {
      "text/html": [
       "<div>\n",
       "<style scoped>\n",
       "    .dataframe tbody tr th:only-of-type {\n",
       "        vertical-align: middle;\n",
       "    }\n",
       "\n",
       "    .dataframe tbody tr th {\n",
       "        vertical-align: top;\n",
       "    }\n",
       "\n",
       "    .dataframe thead th {\n",
       "        text-align: right;\n",
       "    }\n",
       "</style>\n",
       "<table border=\"1\" class=\"dataframe\">\n",
       "  <thead>\n",
       "    <tr style=\"text-align: right;\">\n",
       "      <th></th>\n",
       "      <th>Consumer_Complaint_Narrative</th>\n",
       "      <th>Product</th>\n",
       "    </tr>\n",
       "  </thead>\n",
       "  <tbody>\n",
       "    <tr>\n",
       "      <th>0</th>\n",
       "      <td>Hello This complaint is against the three cred...</td>\n",
       "      <td>Credit reporting, credit repair services, or o...</td>\n",
       "    </tr>\n",
       "    <tr>\n",
       "      <th>1</th>\n",
       "      <td>I am a victim of Identity Theft &amp; currently ha...</td>\n",
       "      <td>Credit reporting, credit repair services, or o...</td>\n",
       "    </tr>\n",
       "    <tr>\n",
       "      <th>2</th>\n",
       "      <td>Two accounts are still on my credit history af...</td>\n",
       "      <td>Credit reporting, credit repair services, or o...</td>\n",
       "    </tr>\n",
       "    <tr>\n",
       "      <th>3</th>\n",
       "      <td>Receiving daily telephone call ( s ) from XXXX...</td>\n",
       "      <td>Credit reporting, credit repair services, or o...</td>\n",
       "    </tr>\n",
       "    <tr>\n",
       "      <th>4</th>\n",
       "      <td>I have a bank of America small business credit...</td>\n",
       "      <td>Credit card or prepaid card</td>\n",
       "    </tr>\n",
       "  </tbody>\n",
       "</table>\n",
       "</div>"
      ],
      "text/plain": [
       "                        Consumer_Complaint_Narrative  \\\n",
       "0  Hello This complaint is against the three cred...   \n",
       "1  I am a victim of Identity Theft & currently ha...   \n",
       "2  Two accounts are still on my credit history af...   \n",
       "3  Receiving daily telephone call ( s ) from XXXX...   \n",
       "4  I have a bank of America small business credit...   \n",
       "\n",
       "                                             Product  \n",
       "0  Credit reporting, credit repair services, or o...  \n",
       "1  Credit reporting, credit repair services, or o...  \n",
       "2  Credit reporting, credit repair services, or o...  \n",
       "3  Credit reporting, credit repair services, or o...  \n",
       "4                        Credit card or prepaid card  "
      ]
     },
     "execution_count": 21,
     "metadata": {},
     "output_type": "execute_result"
    }
   ],
   "source": [
    "# Apply the mask the dataset\n",
    "text_df = text_df.loc[text_df['Product'].isin(top_populated_classes_list)].reset_index(drop=True)\n",
    "print(text_df.shape)\n",
    "text_df.head()"
   ]
  },
  {
   "cell_type": "code",
   "execution_count": 22,
   "id": "c94bc7c7-dd00-4791-9b55-0565b94055bf",
   "metadata": {},
   "outputs": [
    {
     "name": "stdout",
     "output_type": "stream",
     "text": [
      "Number of Classes: 6\n"
     ]
    },
    {
     "data": {
      "text/plain": [
       "Text(0.5, 0, 'Products')"
      ]
     },
     "execution_count": 22,
     "metadata": {},
     "output_type": "execute_result"
    },
    {
     "data": {
      "image/png": "[encoded data removed]",
      "text/plain": [
       "<Figure size 648x432 with 1 Axes>"
      ]
     },
     "metadata": {
      "needs_background": "light"
     },
     "output_type": "display_data"
    }
   ],
   "source": [
    "print(f\"Number of Classes: {text_df.Product.nunique()}\") # reduced the classes to 12\n",
    "text_df.groupby('Product').Consumer_Complaint_Narrative.count().plot.bar(title='Per product number of complaints', figsize=(9,6))\n",
    "plt.ylabel('Number of ocurrences', fontsize = 12)\n",
    "plt.xlabel('Products', fontsize = 12)"
   ]
  },
  {
   "cell_type": "markdown",
   "id": "e863fa8f-2ce8-40d2-b281-5932c210e60b",
   "metadata": {},
   "source": [
    "Since we want to get a representative subsample, we will use `pandas.sample` function\n",
    "\n",
    "As we can see the distribution is the same, hence theoritically the subsample's performance would be the identical."
   ]
  },
  {
   "cell_type": "code",
   "execution_count": 23,
   "id": "eaddce1a-4d85-4cb6-a15f-d9fd60e51cd8",
   "metadata": {},
   "outputs": [
    {
     "data": {
      "image/png": "[encoded data removed]",
      "text/plain": [
       "<Figure size 648x432 with 1 Axes>"
      ]
     },
     "metadata": {
      "needs_background": "light"
     },
     "output_type": "display_data"
    }
   ],
   "source": [
    "sample = text_df.sample(frac=0.1, random_state=44) # %10 of the initial dataset\n",
    "\n",
    "sample.groupby('Product').Consumer_Complaint_Narrative.count().plot.bar(title='Per product number of complaints', figsize=(9,6))\n",
    "plt.ylabel('Number of ocurrences', fontsize = 12)\n",
    "plt.xlabel('Products', fontsize = 12);"
   ]
  },
  {
   "cell_type": "markdown",
   "id": "a6b6c476-0975-43f9-84e5-c623b936962d",
   "metadata": {},
   "source": [
    "# Preprocessing"
   ]
  },
  {
   "cell_type": "code",
   "execution_count": 24,
   "id": "08676120-e36c-450c-acce-6d18f4ac834e",
   "metadata": {},
   "outputs": [],
   "source": [
    "stop_words = set(stopwords.words('english'))\n",
    "lemmatizer = WordNetLemmatizer()\n",
    "\n",
    "final_df = pd.DataFrame()\n",
    "\n",
    "# Lowercase, remove whitespace, Remove stop words and punctuation\n",
    "final_df['Complaints'] = text_df['Consumer_Complaint_Narrative'].apply(lambda x: ' '.join([word.strip().lower() for word in x.split() if word not in stop_words and word not in string.punctuation]))\n",
    "\n",
    "# Lemmatize, acquire only the lemma of the word -- Will take some time to run \n",
    "# final_df['Complaints'] = final_df['Complaints'].apply(lambda x: ' '.join([lemmatizer.lemmatize(word) for word in x.split()]))"
   ]
  },
  {
   "cell_type": "code",
   "execution_count": 25,
   "id": "6e686093-b3ee-4cdb-b701-8f9f78c2f8e7",
   "metadata": {},
   "outputs": [],
   "source": [
    "final_df['Product_Cat'] = text_df['Product'].astype(\"category\").cat.codes"
   ]
  },
  {
   "cell_type": "code",
   "execution_count": 26,
   "id": "8f4cdb1e-40f8-4f05-bef5-faaa26779dcb",
   "metadata": {},
   "outputs": [
    {
     "data": {
      "text/plain": [
       "array([2, 1, 4, 3, 0, 5], dtype=int8)"
      ]
     },
     "execution_count": 26,
     "metadata": {},
     "output_type": "execute_result"
    }
   ],
   "source": [
    "final_df['Product_Cat'].unique() # Successfully Transformed each product category to a numerical value"
   ]
  },
  {
   "cell_type": "code",
   "execution_count": 27,
   "id": "6fe1aa8d-5176-44c3-801d-3bba8ee9c8cc",
   "metadata": {},
   "outputs": [
    {
     "data": {
      "text/plain": [
       "{'Credit reporting, credit repair services, or other personal consumer reports': 2,\n",
       " 'Credit card or prepaid card': 1,\n",
       " 'Mortgage': 4,\n",
       " 'Debt collection': 3,\n",
       " 'Checking or savings account': 0,\n",
       " 'Student loan': 5}"
      ]
     },
     "execution_count": 27,
     "metadata": {},
     "output_type": "execute_result"
    }
   ],
   "source": [
    "unique_classes_dict = dict(zip(text_df.Product, final_df.Product_Cat))\n",
    "unique_classes_dict"
   ]
  },
  {
   "cell_type": "code",
   "execution_count": 80,
   "id": "92f2f4d0-3b42-485f-8b42-a512d0591c9f",
   "metadata": {},
   "outputs": [
    {
     "data": {
      "text/plain": [
       "(145768, 2)"
      ]
     },
     "execution_count": 80,
     "metadata": {},
     "output_type": "execute_result"
    }
   ],
   "source": [
    "# Keep only relevant columns\n",
    "final_subsample_df = final_df.sample(frac=0.2, random_state=44) # %20 of the initial dataset\n",
    "final_subsample_df.shape"
   ]
  },
  {
   "cell_type": "markdown",
   "id": "cad3248b-52a5-4e2b-8d9e-d09509395007",
   "metadata": {},
   "source": [
    "# Utils"
   ]
  },
  {
   "cell_type": "code",
   "execution_count": 69,
   "id": "9e6bcd9a-ae69-4d85-bd17-fc797170b4cd",
   "metadata": {},
   "outputs": [],
   "source": [
    "def plot_confusion_matrix(y_true, y_pred):\n",
    "    conf_mat = confusion_matrix(y_true, y_pred)\n",
    "    plt.figure(figsize = (10,7))\n",
    "    sns.heatmap(conf_mat, annot=True, fmt='d',\n",
    "                xticklabels=complaints_only_text_df.Product.unique(), yticklabels=complaints_only_text_df.Product.unique())\n",
    "    \n",
    "def get_class_report_in_dict(ground_truth, predictions, list_classes):\n",
    "    return classification_report(ground_truth, predictions, target_names=list_classes, output_dict=True)\n",
    "\n",
    "def prec_recall_f1_score(classification_reports, n_splits, list_classes, per_class=False):\n",
    "    per_class_precision = []\n",
    "    per_class_recall = []\n",
    "    per_class_f1_score = []\n",
    "\n",
    "    for product_cat in list_classes:\n",
    "        sum_p = 0\n",
    "        sum_r = 0\n",
    "        sum_f1 = 0\n",
    "        for c in classification_reports:\n",
    "            sum_p += c[product_cat]['precision']\n",
    "            sum_r += c[product_cat]['recall']\n",
    "            sum_f1 += c[product_cat]['f1-score']\n",
    "        per_class_precision.append(sum_p / n_splits)\n",
    "        per_class_recall.append(sum_r / n_splits)\n",
    "        per_class_f1_score.append(sum_f1 / n_splits)\n",
    "    if per_class:\n",
    "        per_class_precision = {name:c for c, name in zip(per_class_precision,list_classes)}\n",
    "        per_class_recall = {name:c for c, name in zip(per_class_recall, list_classes)}\n",
    "        per_class_f1_score = {name:c for c, name in zip(per_class_f1_score, list_classes)}\n",
    "    else:\n",
    "        per_class_precision = np.mean(per_class_precision)\n",
    "        per_class_recall = np.mean(per_class_recall)\n",
    "        per_class_f1_score = np.mean(per_class_f1_score)\n",
    "    \n",
    "    return per_class_precision, per_class_recall, per_class_f1_score"
   ]
  },
  {
   "cell_type": "markdown",
   "id": "71fa0e43-ae04-48b9-b508-387c726d6ba1",
   "metadata": {},
   "source": [
    "# Training Cross-Validation"
   ]
  },
  {
   "cell_type": "code",
   "execution_count": 59,
   "id": "5d58ffd2-9fd5-4dff-9cc1-76e7dca37ddf",
   "metadata": {},
   "outputs": [],
   "source": [
    "def vectorize_cv(X):\n",
    "    tfidf_vectorizer = TfidfVectorizer(max_features=6000, ngram_range=(1, 3), stop_words='english')\n",
    "    return tfidf_vectorizer.fit_transform(X)\n",
    "\n",
    "def train_cv(X, y, list_of_classes):\n",
    "    acc_scores = []\n",
    "    classification_reports = []\n",
    "    fold_number = 0\n",
    "    for train_index, test_index in skf.split(X, y):\n",
    "        X_train, X_test = X[train_index], X[test_index]\n",
    "        y_train, y_test = y[train_index], y[test_index]\n",
    "        # model = RandomForestClassifier(n_estimators=150, max_depth=5)\n",
    "        model = LinearSVC()\n",
    "        model.fit(X_train, y_train)\n",
    "        preds = model.predict(X_test)\n",
    "        acc_scores.append(accuracy_score(y_test, preds))\n",
    "        print('Fold',str(fold_number+1),'Accuracy:',acc_scores[fold_number])\n",
    "        fold_number += 1\n",
    "        classification_reports.append(get_class_report_in_dict(y_test,preds, list_of_classes))\n",
    "    return acc_scores, classification_reports"
   ]
  },
  {
   "cell_type": "markdown",
   "id": "e439296d-71b4-467c-ac07-14242750aeea",
   "metadata": {},
   "source": [
    "### For the subsample"
   ]
  },
  {
   "cell_type": "code",
   "execution_count": 81,
   "id": "348af064-b62a-4f50-93fb-20bdf17f9a99",
   "metadata": {},
   "outputs": [
    {
     "data": {
      "text/plain": [
       "10"
      ]
     },
     "execution_count": 81,
     "metadata": {},
     "output_type": "execute_result"
    }
   ],
   "source": [
    "X_subsample = vectorize_cv(final_subsample_df['Complaints'])\n",
    "y_subsample = final_subsample_df['Product_Cat'].values\n",
    "\n",
    "n_splits = 10 # 10 splits\n",
    "skf = StratifiedKFold(n_splits=n_splits, shuffle=True, random_state=42) \n",
    "skf.get_n_splits(X_subsample, y_subsample)"
   ]
  },
  {
   "cell_type": "code",
   "execution_count": 82,
   "id": "30de7b53-8815-4d8f-bc4e-af1d04c90040",
   "metadata": {},
   "outputs": [
    {
     "data": {
      "text/plain": [
       "((145768, 6000), (145768,))"
      ]
     },
     "execution_count": 82,
     "metadata": {},
     "output_type": "execute_result"
    }
   ],
   "source": [
    "X_subsample.shape, y_subsample.shape"
   ]
  },
  {
   "cell_type": "code",
   "execution_count": 83,
   "id": "bcba0e23-b1e3-4dd8-a5c7-91dab00e615d",
   "metadata": {},
   "outputs": [
    {
     "name": "stdout",
     "output_type": "stream",
     "text": [
      "Fold 1 Accuracy: 0.8669318883325331\n",
      "Fold 2 Accuracy: 0.8690582344468071\n",
      "Fold 3 Accuracy: 0.8637766650661911\n",
      "Fold 4 Accuracy: 0.8663053916861023\n",
      "Fold 5 Accuracy: 0.8639045136507065\n",
      "Fold 6 Accuracy: 0.8660218151883103\n",
      "Fold 7 Accuracy: 0.8601811196487377\n",
      "Fold 8 Accuracy: 0.8631123919308358\n",
      "Fold 9 Accuracy: 0.8639357760395224\n",
      "Fold 10 Accuracy: 0.8662686976808014\n"
     ]
    }
   ],
   "source": [
    "acc_scores, classification_reports = train_cv(X_subsample, y_subsample, text_df.Product.unique())"
   ]
  },
  {
   "cell_type": "code",
   "execution_count": 84,
   "id": "02c60b43-4f4c-41b8-abc7-d3ceab74894c",
   "metadata": {},
   "outputs": [
    {
     "data": {
      "text/plain": [
       "0.8649496493670548"
      ]
     },
     "execution_count": 84,
     "metadata": {},
     "output_type": "execute_result"
    }
   ],
   "source": [
    "import numpy as np\n",
    "np.mean(acc_scores)"
   ]
  },
  {
   "cell_type": "code",
   "execution_count": 85,
   "id": "43611667-398b-4066-ae49-fd352722ab75",
   "metadata": {},
   "outputs": [
    {
     "data": {
      "text/plain": [
       "(0.8555859685851863, 0.8415509845882778, 0.8482104049745657)"
      ]
     },
     "execution_count": 85,
     "metadata": {},
     "output_type": "execute_result"
    }
   ],
   "source": [
    "precision, recall, f1_score = prec_recall_f1_score(classification_reports, n_splits, text_df.Product.unique(), per_class=False)\n",
    "precision, recall, f1_score"
   ]
  },
  {
   "cell_type": "code",
   "execution_count": 86,
   "id": "1f6d214b-0bf2-4306-b16a-7f40255d3b63",
   "metadata": {},
   "outputs": [
    {
     "data": {
      "text/plain": [
       "{'Credit reporting, credit repair services, or other personal consumer reports': 0.8299694996529148,\n",
       " 'Credit card or prepaid card': 0.8141095493776275,\n",
       " 'Mortgage': 0.8859170651755728,\n",
       " 'Debt collection': 0.8257228383230221,\n",
       " 'Checking or savings account': 0.9095168993545244,\n",
       " 'Student loan': 0.8682799596274556}"
      ]
     },
     "execution_count": 86,
     "metadata": {},
     "output_type": "execute_result"
    }
   ],
   "source": [
    "precision, recall, f1_score = prec_recall_f1_score(classification_reports, n_splits, text_df.Product.unique(), per_class=True)\n",
    "precision"
   ]
  },
  {
   "cell_type": "markdown",
   "id": "efaac7e7-e48e-44c7-94d2-957b222f30a3",
   "metadata": {},
   "source": [
    "### For Full Dataset"
   ]
  },
  {
   "cell_type": "code",
   "execution_count": 74,
   "id": "a08eee05-2329-4ee5-a73a-afd743d39574",
   "metadata": {},
   "outputs": [
    {
     "data": {
      "text/plain": [
       "array([2, 1, 4, 3, 0, 5], dtype=int8)"
      ]
     },
     "execution_count": 74,
     "metadata": {},
     "output_type": "execute_result"
    }
   ],
   "source": [
    "final_df['Product_Cat'].unique()"
   ]
  },
  {
   "cell_type": "code",
   "execution_count": 75,
   "id": "dc256f39-e54f-4f8d-b5ed-d46e913b6a33",
   "metadata": {},
   "outputs": [
    {
     "data": {
      "text/plain": [
       "10"
      ]
     },
     "execution_count": 75,
     "metadata": {},
     "output_type": "execute_result"
    }
   ],
   "source": [
    "X_full = vectorize_cv(final_df['Complaints'])\n",
    "y_full = final_df['Product_Cat'].values\n",
    "\n",
    "n_splits = 10 # 10 splits\n",
    "skf = StratifiedKFold(n_splits=n_splits, shuffle=True, random_state=42) \n",
    "skf.get_n_splits(X_full, y_full)"
   ]
  },
  {
   "cell_type": "code",
   "execution_count": 76,
   "id": "7ab21d50-cbb0-4a96-8c76-1c58c180ab5c",
   "metadata": {},
   "outputs": [
    {
     "data": {
      "text/plain": [
       "((728841, 6000), (728841,))"
      ]
     },
     "execution_count": 76,
     "metadata": {},
     "output_type": "execute_result"
    }
   ],
   "source": [
    "X_full.shape, y_full.shape"
   ]
  },
  {
   "cell_type": "code",
   "execution_count": 77,
   "id": "542ed582-2857-4ae7-9725-99cfc8edaea0",
   "metadata": {},
   "outputs": [
    {
     "name": "stdout",
     "output_type": "stream",
     "text": [
      "Fold 1 Accuracy: 0.8725149889555065\n",
      "Fold 2 Accuracy: 0.8724326697490636\n",
      "Fold 3 Accuracy: 0.8750102900419834\n",
      "Fold 4 Accuracy: 0.8738303652278901\n",
      "Fold 5 Accuracy: 0.8743088426974001\n",
      "Fold 6 Accuracy: 0.874624408314468\n",
      "Fold 7 Accuracy: 0.8746055267418567\n",
      "Fold 8 Accuracy: 0.874617527201877\n",
      "Fold 9 Accuracy: 0.8750840411081078\n",
      "Fold 10 Accuracy: 0.8731082175052483\n"
     ]
    }
   ],
   "source": [
    "acc_scores_full, classification_reports_full = train_cv(X_full, y_full, text_df.Product.unique())"
   ]
  },
  {
   "cell_type": "code",
   "execution_count": 78,
   "id": "7df6cb2c-d878-46d6-b1bb-ce591aa65e1d",
   "metadata": {},
   "outputs": [
    {
     "data": {
      "text/plain": [
       "0.8740136877543401"
      ]
     },
     "execution_count": 78,
     "metadata": {},
     "output_type": "execute_result"
    }
   ],
   "source": [
    "np.mean(acc_scores_full)"
   ]
  },
  {
   "cell_type": "code",
   "execution_count": 79,
   "id": "8c5271f8-e33c-4c27-9b3d-15c6df79e02c",
   "metadata": {},
   "outputs": [
    {
     "data": {
      "text/plain": [
       "(0.8658639443762411, 0.8553678870252329, 0.8603660166430404)"
      ]
     },
     "execution_count": 79,
     "metadata": {},
     "output_type": "execute_result"
    }
   ],
   "source": [
    "precision, recall, f1_score = prec_recall_f1_score(classification_reports_full, n_splits, text_df.Product.unique(), per_class=False)\n",
    "precision, recall, f1_score"
   ]
  },
  {
   "cell_type": "markdown",
   "id": "9981b2fc-acda-4bc7-aa3b-9b38e1c5316e",
   "metadata": {},
   "source": [
    "### Findings"
   ]
  },
  {
   "cell_type": "markdown",
   "id": "bbe40ab4-493f-4c6d-9000-fe12df147488",
   "metadata": {},
   "source": [
    "We notice that our subsample has almost identical (~1%) performance (accuracy, precision, recall, f1-score) with the full dataset while requiring 1/5 the time to train.\n",
    "\n",
    "It should be noted that this notebook provides an intuitive approach to the problem.\n",
    "\n",
    "More sophisticated approaches like  XGBClassifier paired with an extensive GridSearch of the model's hyperparameters can yield superior results and decrease the difference between the performance of the full dataset and its subsample."
   ]
  },
  {
   "cell_type": "code",
   "execution_count": null,
   "id": "be8b90d8-3e96-4a82-9399-9783b83d37b7",
   "metadata": {},
   "outputs": [],
   "source": []
  }
 ],
 "metadata": {
  "kernelspec": {
   "display_name": "Python 3 (ipykernel)",
   "language": "python",
   "name": "python3"
  },
  "language_info": {
   "codemirror_mode": {
    "name": "ipython",
    "version": 3
   },
   "file_extension": ".py",
   "mimetype": "text/x-python",
   "name": "python",
   "nbconvert_exporter": "python",
   "pygments_lexer": "ipython3",
   "version": "3.7.11"
  }
 },
 "nbformat": 4,
 "nbformat_minor": 5
}
